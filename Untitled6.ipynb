{
  "nbformat": 4,
  "nbformat_minor": 0,
  "metadata": {
    "colab": {
      "name": "Untitled6.ipynb",
      "provenance": [],
      "authorship_tag": "ABX9TyPkP5EYvJ9pmSFDqgE3Yi/I",
      "include_colab_link": true
    },
    "kernelspec": {
      "name": "python3",
      "display_name": "Python 3"
    },
    "language_info": {
      "name": "python"
    }
  },
  "cells": [
    {
      "cell_type": "markdown",
      "metadata": {
        "id": "view-in-github",
        "colab_type": "text"
      },
      "source": [
        "<a href=\"https://colab.research.google.com/github/ml0110/hello-world/blob/master/Untitled6.ipynb\" target=\"_parent\"><img src=\"https://colab.research.google.com/assets/colab-badge.svg\" alt=\"Open In Colab\"/></a>"
      ]
    },
    {
      "cell_type": "code",
      "execution_count": null,
      "metadata": {
        "colab": {
          "base_uri": "https://localhost:8080/",
          "height": 1000
        },
        "id": "MItWHYS32hwO",
        "outputId": "e39bff5a-5b01-4daa-d2fe-c181c9797bb1"
      },
      "outputs": [
        {
          "output_type": "stream",
          "name": "stdout",
          "text": [
            "Looking in indexes: https://pypi.org/simple, https://us-python.pkg.dev/colab-wheels/public/simple/\n",
            "Collecting deutschland\n",
            "  Downloading deutschland-0.3.0-py3-none-any.whl (16.1 MB)\n",
            "\u001b[K     |████████████████████████████████| 16.1 MB 13.1 MB/s \n",
            "\u001b[?25hCollecting de-bundesrat<0.2.0,>=0.1.0\n",
            "  Downloading de_bundesrat-0.1.0-py3-none-any.whl (40 kB)\n",
            "\u001b[K     |████████████████████████████████| 40 kB 6.3 MB/s \n",
            "\u001b[?25hCollecting de-interpol<0.2.0,>=0.1.0\n",
            "  Downloading de_interpol-0.1.0-py3-none-any.whl (87 kB)\n",
            "\u001b[K     |████████████████████████████████| 87 kB 7.4 MB/s \n",
            "\u001b[?25hCollecting de-strahlenschutz<2.0.0,>=1.0.0\n",
            "  Downloading de_strahlenschutz-1.0.0-py3-none-any.whl (70 kB)\n",
            "\u001b[K     |████████████████████████████████| 70 kB 9.8 MB/s \n",
            "\u001b[?25hRequirement already satisfied: Shapely<2.0.0,>=1.8.0 in /usr/local/lib/python3.7/dist-packages (from deutschland) (1.8.2)\n",
            "Collecting de-risikogebiete<0.2.0,>=0.1.0\n",
            "  Downloading de_risikogebiete-0.1.0-py3-none-any.whl (42 kB)\n",
            "\u001b[K     |████████████████████████████████| 42 kB 1.4 MB/s \n",
            "\u001b[?25hCollecting boto3<2.0.0,>=1.18.9\n",
            "  Downloading boto3-1.24.28-py3-none-any.whl (132 kB)\n",
            "\u001b[K     |████████████████████████████████| 132 kB 82.0 MB/s \n",
            "\u001b[?25hCollecting Pillow<9.0.0,>=8.3.1\n",
            "  Downloading Pillow-8.4.0-cp37-cp37m-manylinux_2_17_x86_64.manylinux2014_x86_64.whl (3.1 MB)\n",
            "\u001b[K     |████████████████████████████████| 3.1 MB 50.6 MB/s \n",
            "\u001b[?25hCollecting de-bundestag<0.2.0,>=0.1.0\n",
            "  Downloading de_bundestag-0.1.0-py3-none-any.whl (41 kB)\n",
            "\u001b[K     |████████████████████████████████| 41 kB 153 kB/s \n",
            "\u001b[?25hCollecting de-nina<2.0.0,>=1.0.1\n",
            "  Downloading de_nina-1.0.2-py3-none-any.whl (81 kB)\n",
            "\u001b[K     |████████████████████████████████| 81 kB 9.8 MB/s \n",
            "\u001b[?25hCollecting requests<3.0.0,>=2.26.0\n",
            "  Downloading requests-2.28.1-py3-none-any.whl (62 kB)\n",
            "\u001b[K     |████████████████████████████████| 62 kB 1.6 MB/s \n",
            "\u001b[?25hCollecting de-smard<0.2.0,>=0.1.0\n",
            "  Downloading de_smard-0.1.0-py3-none-any.whl (49 kB)\n",
            "\u001b[K     |████████████████████████████████| 49 kB 5.6 MB/s \n",
            "\u001b[?25hCollecting onnxruntime<2.0.0,>=1.10.0\n",
            "  Downloading onnxruntime-1.11.1-cp37-cp37m-manylinux_2_17_x86_64.manylinux2014_x86_64.whl (5.2 MB)\n",
            "\u001b[K     |████████████████████████████████| 5.2 MB 59.9 MB/s \n",
            "\u001b[?25hCollecting mapbox-vector-tile<2.0.0,>=1.2.1\n",
            "  Downloading mapbox-vector-tile-1.2.1.tar.gz (33 kB)\n",
            "Collecting lxml<5.0.0,>=4.6.3\n",
            "  Downloading lxml-4.9.1-cp37-cp37m-manylinux_2_17_x86_64.manylinux2014_x86_64.manylinux_2_24_x86_64.whl (6.4 MB)\n",
            "\u001b[K     |████████████████████████████████| 6.4 MB 50.5 MB/s \n",
            "\u001b[?25hCollecting gql<3.0.0,>=2.0.0\n",
            "  Downloading gql-2.0.0-py2.py3-none-any.whl (10 kB)\n",
            "Collecting de-autobahn<2.0.0,>=1.0.4\n",
            "  Downloading de_autobahn-1.0.4-py3-none-any.whl (112 kB)\n",
            "\u001b[K     |████████████████████████████████| 112 kB 91.0 MB/s \n",
            "\u001b[?25hCollecting beautifulsoup4<5.0.0,>=4.9.3\n",
            "  Downloading beautifulsoup4-4.11.1-py3-none-any.whl (128 kB)\n",
            "\u001b[K     |████████████████████████████████| 128 kB 61.4 MB/s \n",
            "\u001b[?25hCollecting de-mudab<0.2.0,>=0.1.0\n",
            "  Downloading de_mudab-0.1.0-py3-none-any.whl (94 kB)\n",
            "\u001b[K     |████████████████████████████████| 94 kB 3.4 MB/s \n",
            "\u001b[?25hCollecting de-travelwarning<0.2.0,>=0.1.0\n",
            "  Downloading de_travelwarning-0.1.0-py3-none-any.whl (98 kB)\n",
            "\u001b[K     |████████████████████████████████| 98 kB 8.9 MB/s \n",
            "\u001b[?25hRequirement already satisfied: more-itertools<9.0.0,>=8.10.0 in /usr/local/lib/python3.7/dist-packages (from deutschland) (8.13.0)\n",
            "Collecting slugify<0.0.2,>=0.0.1\n",
            "  Downloading slugify-0.0.1.tar.gz (1.2 kB)\n",
            "Collecting de-jobsuche<0.2.0,>=0.1.0\n",
            "  Downloading de_jobsuche-0.1.0-py3-none-any.whl (166 kB)\n",
            "\u001b[K     |████████████████████████████████| 166 kB 61.5 MB/s \n",
            "\u001b[?25hCollecting de-polizei-brandenburg<0.2.0,>=0.1.0\n",
            "  Downloading de_polizei_brandenburg-0.1.0-py3-none-any.whl (67 kB)\n",
            "\u001b[K     |████████████████████████████████| 67 kB 7.2 MB/s \n",
            "\u001b[?25hCollecting de-zoll<0.2.0,>=0.1.0\n",
            "  Downloading de_zoll-0.1.0-py3-none-any.whl (85 kB)\n",
            "\u001b[K     |████████████████████████████████| 85 kB 3.9 MB/s \n",
            "\u001b[?25hCollecting pypresseportal<0.2,>=0.1\n",
            "  Downloading pypresseportal-0.1-py3-none-any.whl (13 kB)\n",
            "Collecting numpy==1.19.0\n",
            "  Downloading numpy-1.19.0-cp37-cp37m-manylinux2010_x86_64.whl (14.6 MB)\n",
            "\u001b[K     |████████████████████████████████| 14.6 MB 52.6 MB/s \n",
            "\u001b[?25hCollecting dateparser<2.0.0,>=1.0.0\n",
            "  Downloading dateparser-1.1.1-py2.py3-none-any.whl (288 kB)\n",
            "\u001b[K     |████████████████████████████████| 288 kB 54.9 MB/s \n",
            "\u001b[?25hCollecting de-dwd<2.0.0,>=1.0.1\n",
            "  Downloading de_dwd-1.0.1-py3-none-any.whl (89 kB)\n",
            "\u001b[K     |████████████████████████████████| 89 kB 10.2 MB/s \n",
            "\u001b[?25hCollecting pandas==1.1.5\n",
            "  Downloading pandas-1.1.5-cp37-cp37m-manylinux1_x86_64.whl (9.5 MB)\n",
            "\u001b[K     |████████████████████████████████| 9.5 MB 46.7 MB/s \n",
            "\u001b[?25hCollecting de-ladestationen<2.0.0,>=1.0.5\n",
            "  Downloading de_ladestationen-1.0.5-py3-none-any.whl (68 kB)\n",
            "\u001b[K     |████████████████████████████████| 68 kB 4.9 MB/s \n",
            "\u001b[?25hRequirement already satisfied: python-dateutil>=2.7.3 in /usr/local/lib/python3.7/dist-packages (from pandas==1.1.5->deutschland) (2.8.2)\n",
            "Requirement already satisfied: pytz>=2017.2 in /usr/local/lib/python3.7/dist-packages (from pandas==1.1.5->deutschland) (2022.1)\n",
            "Requirement already satisfied: soupsieve>1.2 in /usr/local/lib/python3.7/dist-packages (from beautifulsoup4<5.0.0,>=4.9.3->deutschland) (2.3.2.post1)\n",
            "Collecting s3transfer<0.7.0,>=0.6.0\n",
            "  Downloading s3transfer-0.6.0-py3-none-any.whl (79 kB)\n",
            "\u001b[K     |████████████████████████████████| 79 kB 10.0 MB/s \n",
            "\u001b[?25hCollecting botocore<1.28.0,>=1.27.28\n",
            "  Downloading botocore-1.27.28-py3-none-any.whl (9.0 MB)\n",
            "\u001b[K     |████████████████████████████████| 9.0 MB 41.8 MB/s \n",
            "\u001b[?25hCollecting jmespath<2.0.0,>=0.7.1\n",
            "  Downloading jmespath-1.0.1-py3-none-any.whl (20 kB)\n",
            "Collecting urllib3<1.27,>=1.25.4\n",
            "  Downloading urllib3-1.26.10-py2.py3-none-any.whl (139 kB)\n",
            "\u001b[K     |████████████████████████████████| 139 kB 82.6 MB/s \n",
            "\u001b[?25hRequirement already satisfied: tzlocal in /usr/local/lib/python3.7/dist-packages (from dateparser<2.0.0,>=1.0.0->deutschland) (1.5.1)\n",
            "Collecting regex!=2019.02.19,!=2021.8.27,<2022.3.15\n",
            "  Downloading regex-2022.3.2-cp37-cp37m-manylinux_2_17_x86_64.manylinux2014_x86_64.whl (749 kB)\n",
            "\u001b[K     |████████████████████████████████| 749 kB 50.5 MB/s \n",
            "\u001b[?25hCollecting graphql-core<3,>=2.3.2\n",
            "  Downloading graphql_core-2.3.2-py2.py3-none-any.whl (252 kB)\n",
            "\u001b[K     |████████████████████████████████| 252 kB 81.8 MB/s \n",
            "\u001b[?25hRequirement already satisfied: six>=1.10.0 in /usr/local/lib/python3.7/dist-packages (from gql<3.0.0,>=2.0.0->deutschland) (1.15.0)\n",
            "Requirement already satisfied: promise<3,>=2.3 in /usr/local/lib/python3.7/dist-packages (from gql<3.0.0,>=2.0.0->deutschland) (2.3)\n",
            "Collecting rx<2,>=1.6\n",
            "  Downloading Rx-1.6.1-py2.py3-none-any.whl (179 kB)\n",
            "\u001b[K     |████████████████████████████████| 179 kB 82.6 MB/s \n",
            "\u001b[?25hRequirement already satisfied: setuptools in /usr/local/lib/python3.7/dist-packages (from mapbox-vector-tile<2.0.0,>=1.2.1->deutschland) (57.4.0)\n",
            "Requirement already satisfied: protobuf in /usr/local/lib/python3.7/dist-packages (from mapbox-vector-tile<2.0.0,>=1.2.1->deutschland) (3.17.3)\n",
            "Requirement already satisfied: future in /usr/local/lib/python3.7/dist-packages (from mapbox-vector-tile<2.0.0,>=1.2.1->deutschland) (0.16.0)\n",
            "Collecting pyclipper\n",
            "  Downloading pyclipper-1.3.0.post3-cp37-cp37m-manylinux_2_5_x86_64.manylinux1_x86_64.whl (604 kB)\n",
            "\u001b[K     |████████████████████████████████| 604 kB 37.0 MB/s \n",
            "\u001b[?25hRequirement already satisfied: flatbuffers in /usr/local/lib/python3.7/dist-packages (from onnxruntime<2.0.0,>=1.10.0->deutschland) (2.0)\n",
            "Collecting onnxruntime<2.0.0,>=1.10.0\n",
            "  Downloading onnxruntime-1.11.0-cp37-cp37m-manylinux_2_17_x86_64.manylinux2014_x86_64.whl (5.2 MB)\n",
            "\u001b[K     |████████████████████████████████| 5.2 MB 45.0 MB/s \n",
            "\u001b[?25h  Downloading onnxruntime-1.10.0-cp37-cp37m-manylinux_2_17_x86_64.manylinux2014_x86_64.whl (4.9 MB)\n",
            "\u001b[K     |████████████████████████████████| 4.9 MB 57.8 MB/s \n",
            "\u001b[?25hRequirement already satisfied: charset-normalizer<3,>=2 in /usr/local/lib/python3.7/dist-packages (from requests<3.0.0,>=2.26.0->deutschland) (2.1.0)\n",
            "Requirement already satisfied: certifi>=2017.4.17 in /usr/local/lib/python3.7/dist-packages (from requests<3.0.0,>=2.26.0->deutschland) (2022.6.15)\n",
            "Requirement already satisfied: idna<4,>=2.5 in /usr/local/lib/python3.7/dist-packages (from requests<3.0.0,>=2.26.0->deutschland) (2.10)\n",
            "Building wheels for collected packages: mapbox-vector-tile, slugify\n",
            "  Building wheel for mapbox-vector-tile (setup.py) ... \u001b[?25l\u001b[?25hdone\n",
            "  Created wheel for mapbox-vector-tile: filename=mapbox_vector_tile-1.2.1-py2.py3-none-any.whl size=32876 sha256=e2feecc99740fa773dc89273f8835e1518268d425bbae5862bfe28dfb8f7050f\n",
            "  Stored in directory: /root/.cache/pip/wheels/a8/8a/f5/a353ad1060c652e3505f2dd661509defc9f2af07e446affbbd\n",
            "  Building wheel for slugify (setup.py) ... \u001b[?25l\u001b[?25hdone\n",
            "  Created wheel for slugify: filename=slugify-0.0.1-py3-none-any.whl size=1908 sha256=05623c2a3b07463f51f801103626d023c3ed6c992131f40ccc2aa480bb6f518f\n",
            "  Stored in directory: /root/.cache/pip/wheels/d4/7b/0d/bd65011a1b442843bb4043e396f727ab0f1e76050355b9156a\n",
            "Successfully built mapbox-vector-tile slugify\n",
            "Installing collected packages: urllib3, jmespath, rx, botocore, s3transfer, requests, regex, pyclipper, numpy, graphql-core, slugify, pypresseportal, Pillow, pandas, onnxruntime, mapbox-vector-tile, lxml, gql, de-zoll, de-travelwarning, de-strahlenschutz, de-smard, de-risikogebiete, de-polizei-brandenburg, de-nina, de-mudab, de-ladestationen, de-jobsuche, de-interpol, de-dwd, de-bundestag, de-bundesrat, de-autobahn, dateparser, boto3, beautifulsoup4, deutschland\n",
            "  Attempting uninstall: urllib3\n",
            "    Found existing installation: urllib3 1.24.3\n",
            "    Uninstalling urllib3-1.24.3:\n",
            "      Successfully uninstalled urllib3-1.24.3\n",
            "  Attempting uninstall: requests\n",
            "    Found existing installation: requests 2.23.0\n",
            "    Uninstalling requests-2.23.0:\n",
            "      Successfully uninstalled requests-2.23.0\n",
            "  Attempting uninstall: regex\n",
            "    Found existing installation: regex 2022.6.2\n",
            "    Uninstalling regex-2022.6.2:\n",
            "      Successfully uninstalled regex-2022.6.2\n",
            "  Attempting uninstall: numpy\n",
            "    Found existing installation: numpy 1.21.6\n",
            "    Uninstalling numpy-1.21.6:\n",
            "      Successfully uninstalled numpy-1.21.6\n",
            "  Attempting uninstall: Pillow\n",
            "    Found existing installation: Pillow 7.1.2\n",
            "    Uninstalling Pillow-7.1.2:\n",
            "      Successfully uninstalled Pillow-7.1.2\n",
            "  Attempting uninstall: pandas\n",
            "    Found existing installation: pandas 1.3.5\n",
            "    Uninstalling pandas-1.3.5:\n",
            "      Successfully uninstalled pandas-1.3.5\n",
            "  Attempting uninstall: lxml\n",
            "    Found existing installation: lxml 4.2.6\n",
            "    Uninstalling lxml-4.2.6:\n",
            "      Successfully uninstalled lxml-4.2.6\n",
            "  Attempting uninstall: beautifulsoup4\n",
            "    Found existing installation: beautifulsoup4 4.6.3\n",
            "    Uninstalling beautifulsoup4-4.6.3:\n",
            "      Successfully uninstalled beautifulsoup4-4.6.3\n",
            "\u001b[31mERROR: pip's dependency resolver does not currently take into account all the packages that are installed. This behaviour is the source of the following dependency conflicts.\n",
            "xarray-einstats 0.2.2 requires numpy>=1.21, but you have numpy 1.19.0 which is incompatible.\n",
            "tensorflow 2.8.2+zzzcolab20220629235552 requires numpy>=1.20, but you have numpy 1.19.0 which is incompatible.\n",
            "google-colab 1.0.0 requires requests~=2.23.0, but you have requests 2.28.1 which is incompatible.\n",
            "datascience 0.10.6 requires folium==0.2.1, but you have folium 0.8.3 which is incompatible.\n",
            "albumentations 0.1.12 requires imgaug<0.2.7,>=0.2.5, but you have imgaug 0.2.9 which is incompatible.\u001b[0m\n",
            "Successfully installed Pillow-8.4.0 beautifulsoup4-4.11.1 boto3-1.24.28 botocore-1.27.28 dateparser-1.1.1 de-autobahn-1.0.4 de-bundesrat-0.1.0 de-bundestag-0.1.0 de-dwd-1.0.1 de-interpol-0.1.0 de-jobsuche-0.1.0 de-ladestationen-1.0.5 de-mudab-0.1.0 de-nina-1.0.2 de-polizei-brandenburg-0.1.0 de-risikogebiete-0.1.0 de-smard-0.1.0 de-strahlenschutz-1.0.0 de-travelwarning-0.1.0 de-zoll-0.1.0 deutschland-0.3.0 gql-2.0.0 graphql-core-2.3.2 jmespath-1.0.1 lxml-4.9.1 mapbox-vector-tile-1.2.1 numpy-1.19.0 onnxruntime-1.10.0 pandas-1.1.5 pyclipper-1.3.0.post3 pypresseportal-0.1 regex-2022.3.2 requests-2.28.1 rx-1.6.1 s3transfer-0.6.0 slugify-0.0.1 urllib3-1.26.10\n"
          ]
        },
        {
          "output_type": "display_data",
          "data": {
            "application/vnd.colab-display-data+json": {
              "pip_warning": {
                "packages": [
                  "PIL",
                  "numpy"
                ]
              }
            }
          },
          "metadata": {}
        }
      ],
      "source": [
        "pip install deutschland\n"
      ]
    },
    {
      "cell_type": "code",
      "source": [
        "from deutschland.bundesanzeiger import Bundesanzeiger\n",
        "ba = Bundesanzeiger()\n",
        "# search term\n",
        "data = ba.get_reports(\"Deutsche Bahn AG\")\n",
        "# returns a dictionary with all reports found as fulltext reports\n",
        "print(data.keys())\n",
        "# dict_keys(['Jahresabschluss zum Geschäftsjahr vom 01.01.2020 bis zum 31.12.2020', 'Konzernabschluss zum Geschäftsjahr vom 01.01.2020 bis zum 31.12.2020\\nErgänzung der Veröffentlichung vom 04.06.2021',"
      ],
      "metadata": {
        "colab": {
          "base_uri": "https://localhost:8080/"
        },
        "id": "U_rpbtYK8I8P",
        "outputId": "0eb4efdf-e378-4805-ba89-a01f9833e799"
      },
      "execution_count": null,
      "outputs": [
        {
          "output_type": "stream",
          "name": "stdout",
          "text": [
            "dict_keys(['Jahresabschluss zum Geschäftsjahr vom 01.01.2021 bis zum 31.12.2021', 'Konzernabschluss zum Geschäftsjahr vom 01.01.2021 bis zum 31.12.2021', 'Jahresabschluss zum Geschäftsjahr vom 01.01.2020 bis zum 31.12.2020', 'Konzernabschluss zum Geschäftsjahr vom 01.01.2020 bis zum 31.12.2020', 'Konzernabschluss zum Geschäftsjahr vom 01.01.2019 bis zum 31.12.2019', 'Jahresabschluss zum Geschäftsjahr vom 01.01.2019 bis zum 31.12.2019', 'Aufsichtsrat', 'Jahresabschluss zum Geschäftsjahr vom 01.01.2018 bis zum 31.12.2018', 'Konzernabschluss zum Geschäftsjahr vom 01.01.2018 bis zum 31.12.2018', 'Hinweisbekanntmachung gemäß § 62 Abs. 4 Satz 3 i.V.m. Abs. 3 UmwG', 'Jahresabschluss zum Geschäftsjahr vom 01.01.2017 bis zum 31.12.2017', 'Konzernabschluss zum Geschäftsjahr vom 01.01.2017 bis zum 31.12.2017'])\n"
          ]
        }
      ]
    },
    {
      "cell_type": "code",
      "source": [
        "import pandas as pd"
      ],
      "metadata": {
        "id": "OIQlrWCeypd6"
      },
      "execution_count": null,
      "outputs": []
    },
    {
      "cell_type": "code",
      "source": [
        "type(data)"
      ],
      "metadata": {
        "colab": {
          "base_uri": "https://localhost:8080/"
        },
        "id": "fUVaCN6V4bk6",
        "outputId": "09da64f3-c971-4f75-b27b-3b0603962d4b"
      },
      "execution_count": null,
      "outputs": [
        {
          "output_type": "execute_result",
          "data": {
            "text/plain": [
              "dict"
            ]
          },
          "metadata": {},
          "execution_count": 6
        }
      ]
    }
  ]
}